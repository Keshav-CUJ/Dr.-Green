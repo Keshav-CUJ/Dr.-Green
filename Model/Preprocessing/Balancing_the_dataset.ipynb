{
 "cells": [
  {
   "cell_type": "code",
   "execution_count": 1,
   "metadata": {},
   "outputs": [],
   "source": [
    "import os\n",
    "import shutil\n",
    "import random\n",
    "from collections import defaultdict\n",
    "\n",
    "def balance_dataset(input_folder, output_folder, removed_folder):\n",
    "    # Create output and removed folders if they don't exist\n",
    "    os.makedirs(output_folder, exist_ok=True)\n",
    "    os.makedirs(removed_folder, exist_ok=True)\n",
    "    \n",
    "    for phase in ['train', 'test']:\n",
    "        phase_input_path = os.path.join(input_folder, phase)\n",
    "        phase_output_path = os.path.join(output_folder, phase)\n",
    "        phase_removed_path = os.path.join(removed_folder, phase)\n",
    "        \n",
    "        # Create output and removed folders for the phase\n",
    "        os.makedirs(phase_output_path, exist_ok=True)\n",
    "        os.makedirs(phase_removed_path, exist_ok=True)\n",
    "        \n",
    "        class_counts = defaultdict(int)\n",
    "        class_images = defaultdict(list)\n",
    "        \n",
    "        # Gather images and count class occurrences\n",
    "        for class_name in os.listdir(phase_input_path):\n",
    "            class_input_path = os.path.join(phase_input_path, class_name)\n",
    "            class_output_path = os.path.join(phase_output_path, class_name)\n",
    "            class_removed_path = os.path.join(phase_removed_path, class_name)\n",
    "            \n",
    "            # Create class folders in output and removed\n",
    "            os.makedirs(class_output_path, exist_ok=True)\n",
    "            os.makedirs(class_removed_path, exist_ok=True)\n",
    "            \n",
    "            for image_name in os.listdir(class_input_path):\n",
    "                image_path = os.path.join(class_input_path, image_name)\n",
    "                class_images[class_name].append(image_path)\n",
    "                class_counts[class_name] += 1\n",
    "        \n",
    "        # Find the minimum class count for balancing\n",
    "        min_count = min(class_counts.values())\n",
    "        \n",
    "        # Balance classes\n",
    "        for class_name, images in class_images.items():\n",
    "            random.shuffle(images)\n",
    "            for i, image_path in enumerate(images):\n",
    "                if i < min_count:\n",
    "                    shutil.copy(image_path, os.path.join(phase_output_path, class_name, os.path.basename(image_path)))\n",
    "                else:\n",
    "                    shutil.copy(image_path, os.path.join(phase_removed_path, class_name, os.path.basename(image_path)))\n",
    "\n",
    "# Paths for input, output, and removed images\n",
    "input_folder = r'C:\\Dataset'\n",
    "output_folder = r'C:\\balanced dataset'\n",
    "removed_folder = r'C:\\removed dataset'\n",
    "\n",
    "balance_dataset(input_folder, output_folder, removed_folder)\n"
   ]
  }
 ],
 "metadata": {
  "kernelspec": {
   "display_name": "tf",
   "language": "python",
   "name": "python3"
  },
  "language_info": {
   "codemirror_mode": {
    "name": "ipython",
    "version": 3
   },
   "file_extension": ".py",
   "mimetype": "text/x-python",
   "name": "python",
   "nbconvert_exporter": "python",
   "pygments_lexer": "ipython3",
   "version": "3.9.19"
  }
 },
 "nbformat": 4,
 "nbformat_minor": 2
}
