{
 "cells": [
  {
   "cell_type": "code",
   "execution_count": 6,
   "metadata": {},
   "outputs": [
    {
     "ename": "ValueError",
     "evalue": "cannot reshape array of size 1 into shape (2)",
     "output_type": "error",
     "traceback": [
      "\u001b[1;31m---------------------------------------------------------------------------\u001b[0m",
      "\u001b[1;31mValueError\u001b[0m                                Traceback (most recent call last)",
      "Cell \u001b[1;32mIn[6], line 41\u001b[0m\n\u001b[0;32m     38\u001b[0m os\u001b[38;5;241m.\u001b[39mmakedirs(output_dir, exist_ok\u001b[38;5;241m=\u001b[39m\u001b[38;5;28;01mTrue\u001b[39;00m)\n\u001b[0;32m     40\u001b[0m \u001b[38;5;66;03m# Generate the masks\u001b[39;00m\n\u001b[1;32m---> 41\u001b[0m \u001b[43mcreate_mask_from_cvat_json\u001b[49m\u001b[43m(\u001b[49m\u001b[43mjson_file\u001b[49m\u001b[43m,\u001b[49m\u001b[43m \u001b[49m\u001b[43moutput_dir\u001b[49m\u001b[43m,\u001b[49m\u001b[43m \u001b[49m\u001b[43mimage_shape\u001b[49m\u001b[43m,\u001b[49m\u001b[43m \u001b[49m\u001b[43mclass_mapping\u001b[49m\u001b[43m)\u001b[49m\n",
      "Cell \u001b[1;32mIn[6], line 24\u001b[0m, in \u001b[0;36mcreate_mask_from_cvat_json\u001b[1;34m(json_file, output_dir, image_shape, class_mapping)\u001b[0m\n\u001b[0;32m     21\u001b[0m         segmentation \u001b[38;5;241m=\u001b[39m annotation[\u001b[38;5;124m'\u001b[39m\u001b[38;5;124msegmentation\u001b[39m\u001b[38;5;124m'\u001b[39m]\n\u001b[0;32m     23\u001b[0m         \u001b[38;5;28;01mfor\u001b[39;00m seg \u001b[38;5;129;01min\u001b[39;00m segmentation:\n\u001b[1;32m---> 24\u001b[0m             polygon \u001b[38;5;241m=\u001b[39m \u001b[43mnp\u001b[49m\u001b[38;5;241;43m.\u001b[39;49m\u001b[43marray\u001b[49m\u001b[43m(\u001b[49m\u001b[43mseg\u001b[49m\u001b[43m)\u001b[49m\u001b[38;5;241;43m.\u001b[39;49m\u001b[43mreshape\u001b[49m\u001b[43m(\u001b[49m\u001b[38;5;241;43m-\u001b[39;49m\u001b[38;5;241;43m1\u001b[39;49m\u001b[43m,\u001b[49m\u001b[43m \u001b[49m\u001b[38;5;241;43m2\u001b[39;49m\u001b[43m)\u001b[49m\u001b[38;5;241m.\u001b[39mastype(np\u001b[38;5;241m.\u001b[39mint32)\n\u001b[0;32m     25\u001b[0m             cv2\u001b[38;5;241m.\u001b[39mfillPoly(mask, [polygon], class_index)\n\u001b[0;32m     27\u001b[0m \u001b[38;5;66;03m# Save the mask\u001b[39;00m\n",
      "\u001b[1;31mValueError\u001b[0m: cannot reshape array of size 1 into shape (2)"
     ]
    }
   ],
   "source": [
    "import json\n",
    "import numpy as np\n",
    "import cv2\n",
    "import os\n",
    "\n",
    "def create_mask_from_cvat_json(json_file, output_dir, image_shape, class_mapping):\n",
    "    with open(json_file) as f:\n",
    "        data = json.load(f)\n",
    "    \n",
    "    for image_info in data['images']:\n",
    "        image_id = image_info['id']\n",
    "        image_filename = image_info['file_name']\n",
    "        \n",
    "        # Create a blank mask\n",
    "        mask = np.zeros(image_shape[:2], dtype=np.uint8)\n",
    "        \n",
    "        for annotation in data['annotations']:\n",
    "            if annotation['image_id'] == image_id:\n",
    "                label = annotation['category_id']\n",
    "                class_index = class_mapping[label]\n",
    "                segmentation = annotation['segmentation']\n",
    "                \n",
    "                for seg in segmentation:\n",
    "                    polygon = np.array(seg).reshape(-1, 2).astype(np.int32)\n",
    "                    cv2.fillPoly(mask, [polygon], class_index)\n",
    "        \n",
    "        # Save the mask\n",
    "        mask_filename = os.path.splitext(image_filename)[0] + '_mask.png'\n",
    "        cv2.imwrite(os.path.join(output_dir, mask_filename), mask)\n",
    "\n",
    "# Define paths and parameters\n",
    "json_file = r\"C:\\Users\\bkesh\\Downloads\\nnoa (1)\\annotations\\instances_default.json\"\n",
    "output_dir = r\"C:\\Users\\bkesh\\Downloads\\nnoa (1)\"\n",
    "image_shape = (512, 512)  # Adjust according to your image size\n",
    "class_mapping = {0: 'diseased', 1: 'healthy',2 : 'bg'}  # Mapping of CVAT class IDs to desired mask values\n",
    "\n",
    "# Create output directory if it doesn't exist\n",
    "os.makedirs(output_dir, exist_ok=True)\n",
    "\n",
    "# Generate the masks\n",
    "create_mask_from_cvat_json(json_file, output_dir, image_shape, class_mapping)\n"
   ]
  },
  {
   "cell_type": "code",
   "execution_count": 7,
   "metadata": {},
   "outputs": [
    {
     "name": "stdout",
     "output_type": "stream",
     "text": [
      "Skipping polygon due to error: cannot reshape array of size 1 into shape (2)\n",
      "Skipping polygon due to error: cannot reshape array of size 1 into shape (2)\n",
      "Skipping polygon due to error: cannot reshape array of size 1 into shape (2)\n",
      "Skipping polygon due to error: cannot reshape array of size 1 into shape (2)\n",
      "Skipping polygon due to error: cannot reshape array of size 1 into shape (2)\n",
      "Skipping polygon due to error: cannot reshape array of size 1 into shape (2)\n",
      "Skipping polygon due to error: cannot reshape array of size 1 into shape (2)\n",
      "Skipping polygon due to error: cannot reshape array of size 1 into shape (2)\n",
      "Skipping polygon due to error: cannot reshape array of size 1 into shape (2)\n",
      "Skipping polygon due to error: cannot reshape array of size 1 into shape (2)\n"
     ]
    }
   ],
   "source": [
    "import json\n",
    "import numpy as np\n",
    "import cv2\n",
    "import os\n",
    "\n",
    "def create_mask_from_cvat_json(json_file, output_dir, image_shape, class_mapping):\n",
    "    with open(json_file) as f:\n",
    "        data = json.load(f)\n",
    "    \n",
    "    for image_info in data['images']:\n",
    "        image_id = image_info['id']\n",
    "        image_filename = image_info['file_name']\n",
    "        \n",
    "        # Create a blank mask\n",
    "        mask = np.zeros(image_shape[:2], dtype=np.uint8)\n",
    "        \n",
    "        for annotation in data['annotations']:\n",
    "            if annotation['image_id'] == image_id:\n",
    "                label = annotation['category_id']\n",
    "                class_index = class_mapping[label]\n",
    "                segmentation = annotation['segmentation']\n",
    "                \n",
    "                for seg in segmentation:\n",
    "                    if len(seg) % 2 == 0:  # Check if the number of coordinates is even\n",
    "                        try:\n",
    "                            polygon = np.array(seg).reshape(-1, 2).astype(np.int32)\n",
    "                            cv2.fillPoly(mask, [polygon], class_index)\n",
    "                        except ValueError as e:\n",
    "                            print(f\"Skipping polygon due to error: {e}\")\n",
    "                    else:\n",
    "                        print(f\"Invalid segmentation data in image {image_filename}, skipping.\")\n",
    "\n",
    "        # Save the mask\n",
    "        mask_filename = os.path.splitext(image_filename)[0] + '_mask.png'\n",
    "        cv2.imwrite(os.path.join(output_dir, mask_filename), mask)\n",
    "\n",
    "# Define paths and parameters\n",
    "json_file = r\"C:\\Users\\bkesh\\Downloads\\nnoa (1)\\annotations\\instances_default.json\"\n",
    "output_dir = r\"C:\\Users\\bkesh\\Downloads\\nnoa (1)\"\n",
    "image_shape = (400, 400)  # Adjust according to your image size\n",
    "class_mapping = {1: 1, 2: 2, 3: 3}  # Mapping of CVAT class IDs to desired mask values\n",
    "\n",
    "# Create output directory if it doesn't exist\n",
    "os.makedirs(output_dir, exist_ok=True)\n",
    "\n",
    "# Generate the masks\n",
    "create_mask_from_cvat_json(json_file, output_dir, image_shape, class_mapping)\n"
   ]
  }
 ],
 "metadata": {
  "kernelspec": {
   "display_name": "tf",
   "language": "python",
   "name": "python3"
  },
  "language_info": {
   "codemirror_mode": {
    "name": "ipython",
    "version": 3
   },
   "file_extension": ".py",
   "mimetype": "text/x-python",
   "name": "python",
   "nbconvert_exporter": "python",
   "pygments_lexer": "ipython3",
   "version": "3.9.19"
  }
 },
 "nbformat": 4,
 "nbformat_minor": 2
}
