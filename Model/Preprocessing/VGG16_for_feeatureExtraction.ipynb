{
 "cells": [
  {
   "cell_type": "code",
   "execution_count": 187,
   "metadata": {},
   "outputs": [],
   "source": [
    "import tensorflow as tf\n",
    "from tensorflow import keras\n",
    "from keras import Sequential\n",
    "from keras.layers import Dense,Flatten,Dropout\n",
    "from keras.applications.vgg16 import VGG16\n",
    "from tensorflow.keras.optimizers import RMSprop\n",
    "from sklearn.metrics import classification_report, confusion_matrix\n",
    "import numpy as np"
   ]
  },
  {
   "cell_type": "code",
   "execution_count": 188,
   "metadata": {},
   "outputs": [],
   "source": [
    "\n",
    "\n",
    "# data_augmentation = Sequential([\n",
    "#     layers.RandomFlip('horizontal'),\n",
    "#     layers.RandomRotation(0.2),\n",
    "#     # layers.RandomZoom(0.2),\n",
    "#     layers.RandomContrast(0.2),\n",
    "#     # layers.RandomTranslation(height_factor=0.1, width_factor=0.1),\n",
    "#     layers.RandomBrightness(factor=0.2)\n",
    "# ])"
   ]
  },
  {
   "cell_type": "code",
   "execution_count": 189,
   "metadata": {},
   "outputs": [],
   "source": [
    "conv_base = VGG16(\n",
    "    weights='imagenet',\n",
    "    include_top = False,\n",
    "    input_shape=(224,224,3)\n",
    ")"
   ]
  },
  {
   "cell_type": "code",
   "execution_count": 190,
   "metadata": {},
   "outputs": [
    {
     "name": "stdout",
     "output_type": "stream",
     "text": [
      "input_16 False\n",
      "block1_conv1 False\n",
      "block1_conv2 False\n",
      "block1_pool False\n",
      "block2_conv1 False\n",
      "block2_conv2 False\n",
      "block2_pool False\n",
      "block3_conv1 False\n",
      "block3_conv2 False\n",
      "block3_conv3 False\n",
      "block3_pool False\n",
      "block4_conv1 False\n",
      "block4_conv2 False\n",
      "block4_conv3 False\n",
      "block4_pool False\n",
      "block5_conv1 True\n",
      "block5_conv2 True\n",
      "block5_conv3 True\n",
      "block5_pool True\n"
     ]
    }
   ],
   "source": [
    "conv_base.trainable = True\n",
    "\n",
    "set_trainable = False\n",
    "\n",
    "for layer in conv_base.layers:\n",
    "  if layer.name == 'block5_conv1':\n",
    "    set_trainable = True\n",
    "  if set_trainable:\n",
    "    layer.trainable = True\n",
    "  else:\n",
    "    layer.trainable = False\n",
    "\n",
    "for layer in conv_base.layers:\n",
    "  print(layer.name,layer.trainable)"
   ]
  },
  {
   "cell_type": "code",
   "execution_count": 191,
   "metadata": {},
   "outputs": [
    {
     "name": "stdout",
     "output_type": "stream",
     "text": [
      "Model: \"vgg16\"\n",
      "_________________________________________________________________\n",
      " Layer (type)                Output Shape              Param #   \n",
      "=================================================================\n",
      " input_16 (InputLayer)       [(None, 224, 224, 3)]     0         \n",
      "                                                                 \n",
      " block1_conv1 (Conv2D)       (None, 224, 224, 64)      1792      \n",
      "                                                                 \n",
      " block1_conv2 (Conv2D)       (None, 224, 224, 64)      36928     \n",
      "                                                                 \n",
      " block1_pool (MaxPooling2D)  (None, 112, 112, 64)      0         \n",
      "                                                                 \n",
      " block2_conv1 (Conv2D)       (None, 112, 112, 128)     73856     \n",
      "                                                                 \n",
      " block2_conv2 (Conv2D)       (None, 112, 112, 128)     147584    \n",
      "                                                                 \n",
      " block2_pool (MaxPooling2D)  (None, 56, 56, 128)       0         \n",
      "                                                                 \n",
      " block3_conv1 (Conv2D)       (None, 56, 56, 256)       295168    \n",
      "                                                                 \n",
      " block3_conv2 (Conv2D)       (None, 56, 56, 256)       590080    \n",
      "                                                                 \n",
      " block3_conv3 (Conv2D)       (None, 56, 56, 256)       590080    \n",
      "                                                                 \n",
      " block3_pool (MaxPooling2D)  (None, 28, 28, 256)       0         \n",
      "                                                                 \n",
      " block4_conv1 (Conv2D)       (None, 28, 28, 512)       1180160   \n",
      "                                                                 \n",
      " block4_conv2 (Conv2D)       (None, 28, 28, 512)       2359808   \n",
      "                                                                 \n",
      " block4_conv3 (Conv2D)       (None, 28, 28, 512)       2359808   \n",
      "                                                                 \n",
      " block4_pool (MaxPooling2D)  (None, 14, 14, 512)       0         \n",
      "                                                                 \n",
      " block5_conv1 (Conv2D)       (None, 14, 14, 512)       2359808   \n",
      "                                                                 \n",
      " block5_conv2 (Conv2D)       (None, 14, 14, 512)       2359808   \n",
      "                                                                 \n",
      " block5_conv3 (Conv2D)       (None, 14, 14, 512)       2359808   \n",
      "                                                                 \n",
      " block5_pool (MaxPooling2D)  (None, 7, 7, 512)         0         \n",
      "                                                                 \n",
      "=================================================================\n",
      "Total params: 14,714,688\n",
      "Trainable params: 7,079,424\n",
      "Non-trainable params: 7,635,264\n",
      "_________________________________________________________________\n"
     ]
    }
   ],
   "source": [
    "conv_base.summary()"
   ]
  },
  {
   "cell_type": "code",
   "execution_count": 192,
   "metadata": {},
   "outputs": [],
   "source": [
    "model = Sequential()\n",
    "# model.add(data_augmentation)\n",
    "model.add(conv_base)\n",
    "model.add(Flatten())\n",
    "model.add(Dense(256,activation='relu'))\n",
    "model.add(Dropout(0.5))\n",
    "model.add(Dense(128,activation='relu'))\n",
    "# model.add(Dropout(0.5))\n",
    "model.add(Dense(10,activation='softmax'))"
   ]
  },
  {
   "cell_type": "code",
   "execution_count": 193,
   "metadata": {},
   "outputs": [],
   "source": [
    "# # generators\n",
    "# train_ds = keras.utils.image_dataset_from_directory(\n",
    "#     directory = r\"C:\\Users\\singh\\Downloads\\tomato _dataset\\tomato\\train2\",\n",
    "#     labels='inferred',\n",
    "#     label_mode = 'categorical',\n",
    "#     batch_size=8,\n",
    "#     image_size=(256,256)\n",
    "# )\n",
    "\n",
    "# validation_ds = keras.utils.image_dataset_from_directory(\n",
    "#     directory = r\"C:\\Users\\singh\\Downloads\\tomato _dataset\\tomato\\val2\",\n",
    "#     labels='inferred',\n",
    "#     label_mode = 'categorical',\n",
    "#     batch_size=8,\n",
    "#     image_size=(256,256)\n",
    "# )"
   ]
  },
  {
   "cell_type": "code",
   "execution_count": 194,
   "metadata": {},
   "outputs": [],
   "source": [
    "from keras.preprocessing.image import ImageDataGenerator"
   ]
  },
  {
   "cell_type": "code",
   "execution_count": 195,
   "metadata": {},
   "outputs": [
    {
     "name": "stdout",
     "output_type": "stream",
     "text": [
      "Found 10129 images belonging to 10 classes.\n",
      "Found 1000 images belonging to 10 classes.\n"
     ]
    }
   ],
   "source": [
    "batch_size = 4\n",
    "\n",
    "train_datagen = ImageDataGenerator(\n",
    "    rescale=1./255,\n",
    "    rotation_range=20,\n",
    "    shear_range=0.2,\n",
    "    zoom_range=0.2,\n",
    "    horizontal_flip=True,\n",
    "    brightness_range=[0.8, 1.2],  # Adjust brightness (you can customize the range)\n",
    "#     contrast_range=[0.8, 1.2]     # Adjust contrast (you can customize the range)\n",
    ")\n",
    "\n",
    "test_datagen = ImageDataGenerator(rescale=1./255)\n",
    "\n",
    "train_generator = train_datagen.flow_from_directory(\n",
    "        r\"C:\\Users\\singh\\Downloads\\tomato _dataset\\tomato\\train\",\n",
    "        target_size=(224, 224),\n",
    "        batch_size=batch_size,\n",
    "        class_mode='categorical') \n",
    "\n",
    "validation_generator = test_datagen.flow_from_directory(\n",
    "        r\"C:\\Users\\singh\\Downloads\\tomato _dataset\\tomato\\val\",\n",
    "        target_size=(224, 224),\n",
    "        batch_size=batch_size,\n",
    "        class_mode='categorical')"
   ]
  },
  {
   "cell_type": "code",
   "execution_count": 196,
   "metadata": {},
   "outputs": [],
   "source": [
    "# # Normalize\n",
    "# def process(image,label):\n",
    "#     image = tf.cast(image/255. ,tf.float32)\n",
    "#     return image,label\n",
    "\n",
    "# train_ds = train_ds.map(process)\n",
    "# validation_ds = validation_ds.map(process)"
   ]
  },
  {
   "cell_type": "code",
   "execution_count": 197,
   "metadata": {},
   "outputs": [],
   "source": [
    "model.compile(\n",
    "    optimizer=RMSprop(lr=1e-5),                               #RMSprop because during fine tuning lower learning rate should be there\n",
    "    loss='categorical_crossentropy',\n",
    "    metrics=['accuracy']\n",
    "  )"
   ]
  },
  {
   "cell_type": "code",
   "execution_count": 198,
   "metadata": {},
   "outputs": [
    {
     "name": "stdout",
     "output_type": "stream",
     "text": [
      "Epoch 1/25\n",
      "2533/2533 [==============================] - 189s 74ms/step - loss: 1.3725 - accuracy: 0.5260 - val_loss: 0.8843 - val_accuracy: 0.6960\n",
      "Epoch 2/25\n",
      "2533/2533 [==============================] - 167s 66ms/step - loss: 0.7218 - accuracy: 0.7531 - val_loss: 0.6305 - val_accuracy: 0.7850\n",
      "Epoch 3/25\n",
      "2533/2533 [==============================] - 166s 66ms/step - loss: 0.5128 - accuracy: 0.8305 - val_loss: 0.5569 - val_accuracy: 0.8240\n",
      "Epoch 4/25\n",
      "2533/2533 [==============================] - 166s 66ms/step - loss: 0.4186 - accuracy: 0.8579 - val_loss: 0.5447 - val_accuracy: 0.8300\n",
      "Epoch 5/25\n",
      "2533/2533 [==============================] - 167s 66ms/step - loss: 0.3337 - accuracy: 0.8894 - val_loss: 0.4450 - val_accuracy: 0.8760\n",
      "Epoch 6/25\n",
      "2533/2533 [==============================] - 166s 66ms/step - loss: 0.3004 - accuracy: 0.9011 - val_loss: 0.3476 - val_accuracy: 0.8810\n",
      "Epoch 7/25\n",
      "2533/2533 [==============================] - 166s 66ms/step - loss: 0.2791 - accuracy: 0.9122 - val_loss: 0.4019 - val_accuracy: 0.8850\n",
      "Epoch 8/25\n",
      "2533/2533 [==============================] - 167s 66ms/step - loss: 0.2430 - accuracy: 0.9228 - val_loss: 0.2604 - val_accuracy: 0.9120\n",
      "Epoch 9/25\n",
      "2533/2533 [==============================] - 167s 66ms/step - loss: 0.2286 - accuracy: 0.9289 - val_loss: 0.3574 - val_accuracy: 0.9040\n",
      "Epoch 10/25\n",
      "2533/2533 [==============================] - 166s 66ms/step - loss: 0.2272 - accuracy: 0.9307 - val_loss: 0.4304 - val_accuracy: 0.8910\n",
      "Epoch 11/25\n",
      "2533/2533 [==============================] - 168s 66ms/step - loss: 0.2119 - accuracy: 0.9357 - val_loss: 0.3024 - val_accuracy: 0.9140\n",
      "Epoch 12/25\n",
      "2533/2533 [==============================] - 193s 76ms/step - loss: 0.1967 - accuracy: 0.9411 - val_loss: 0.4797 - val_accuracy: 0.8920\n",
      "Epoch 13/25\n",
      "2533/2533 [==============================] - 166s 66ms/step - loss: 0.2038 - accuracy: 0.9421 - val_loss: 0.3181 - val_accuracy: 0.9180\n",
      "Epoch 14/25\n",
      "2533/2533 [==============================] - 167s 66ms/step - loss: 0.1975 - accuracy: 0.9438 - val_loss: 0.3040 - val_accuracy: 0.9230\n",
      "Epoch 15/25\n",
      "2533/2533 [==============================] - 166s 66ms/step - loss: 0.2009 - accuracy: 0.9451 - val_loss: 0.4155 - val_accuracy: 0.9160\n",
      "Epoch 16/25\n",
      "2533/2533 [==============================] - 166s 66ms/step - loss: 0.2008 - accuracy: 0.9444 - val_loss: 0.7473 - val_accuracy: 0.8850\n",
      "Epoch 17/25\n",
      "2533/2533 [==============================] - 166s 66ms/step - loss: 0.2001 - accuracy: 0.9444 - val_loss: 0.3623 - val_accuracy: 0.8930\n",
      "Epoch 18/25\n",
      "2533/2533 [==============================] - 166s 66ms/step - loss: 0.2080 - accuracy: 0.9421 - val_loss: 0.6173 - val_accuracy: 0.8730\n",
      "Epoch 19/25\n",
      "2533/2533 [==============================] - 166s 66ms/step - loss: 0.1887 - accuracy: 0.9496 - val_loss: 0.3749 - val_accuracy: 0.9200\n",
      "Epoch 20/25\n",
      "2533/2533 [==============================] - 166s 66ms/step - loss: 0.2075 - accuracy: 0.9468 - val_loss: 0.4319 - val_accuracy: 0.8930\n",
      "Epoch 21/25\n",
      "2533/2533 [==============================] - 166s 66ms/step - loss: 0.2087 - accuracy: 0.9425 - val_loss: 0.4480 - val_accuracy: 0.9100\n",
      "Epoch 22/25\n",
      "2533/2533 [==============================] - 166s 66ms/step - loss: 0.2067 - accuracy: 0.9441 - val_loss: 0.4479 - val_accuracy: 0.9180\n",
      "Epoch 23/25\n",
      "2533/2533 [==============================] - 166s 66ms/step - loss: 0.2256 - accuracy: 0.9441 - val_loss: 0.5250 - val_accuracy: 0.9010\n",
      "Epoch 24/25\n",
      "2533/2533 [==============================] - 166s 65ms/step - loss: 0.2109 - accuracy: 0.9469 - val_loss: 0.5374 - val_accuracy: 0.9070\n",
      "Epoch 25/25\n",
      "2533/2533 [==============================] - 215s 85ms/step - loss: 0.2105 - accuracy: 0.9462 - val_loss: 0.4737 - val_accuracy: 0.8930\n"
     ]
    }
   ],
   "source": [
    "# history = model.fit(train_ds,epochs=10,validation_data=validation_ds)\n",
    "history = model.fit(\n",
    "        train_generator,\n",
    "        epochs=25,\n",
    "        validation_data=validation_generator)"
   ]
  },
  {
   "cell_type": "code",
   "execution_count": null,
   "metadata": {},
   "outputs": [
    {
     "data": {
      "image/png": "[encoded data removed]",
      "text/plain": [
       "<Figure size 640x480 with 1 Axes>"
      ]
     },
     "metadata": {},
     "output_type": "display_data"
    }
   ],
   "source": [
    "import matplotlib.pyplot as plt\n",
    "\n",
    "plt.plot(history.history['accuracy'],color='red',label='train')\n",
    "plt.plot(history.history['val_accuracy'],color='blue',label='validation')\n",
    "plt.legend()\n",
    "plt.show()"
   ]
  },
  {
   "cell_type": "code",
   "execution_count": null,
   "metadata": {},
   "outputs": [
    {
     "data": {
      "image/png": "[encoded data removed]",
      "text/plain": [
       "<Figure size 640x480 with 1 Axes>"
      ]
     },
     "metadata": {},
     "output_type": "display_data"
    }
   ],
   "source": [
    "\n",
    "\n",
    "plt.plot(history.history['loss'],color='red',label='train')\n",
    "plt.plot(history.history['val_loss'],color='blue',label='validation')\n",
    "plt.legend()\n",
    "plt.show()"
   ]
  },
  {
   "cell_type": "code",
   "execution_count": null,
   "metadata": {},
   "outputs": [
    {
     "name": "stdout",
     "output_type": "stream",
     "text": [
      "250/250 [==============================] - 11s 44ms/step - loss: 0.4737 - accuracy: 0.8930\n",
      "Test Loss: 0.4736727178096771\n",
      "Test Accuracy: 0.8930000066757202\n"
     ]
    }
   ],
   "source": [
    "# Evaluate the model\n",
    "test_loss, test_accuracy = model.evaluate(validation_generator)\n",
    "print(\"Test Loss:\", test_loss)\n",
    "print(\"Test Accuracy:\", test_accuracy)"
   ]
  },
  {
   "cell_type": "code",
   "execution_count": 203,
   "metadata": {},
   "outputs": [
    {
     "name": "stdout",
     "output_type": "stream",
     "text": [
      "250/250 [==============================] - 11s 43ms/step\n"
     ]
    }
   ],
   "source": [
    "# Predict classes for test set\n",
    "Y_pred = model.predict(validation_generator)\n",
    "y_pred = np.argmax(Y_pred, axis=1)\n",
    "class_labels = list(validation_generator.class_indices.keys())"
   ]
  },
  {
   "cell_type": "code",
   "execution_count": null,
   "metadata": {},
   "outputs": [
    {
     "name": "stdout",
     "output_type": "stream",
     "text": [
      "\n",
      "Classification Report:\n",
      "                                               precision    recall  f1-score   support\n",
      "\n",
      "                      Tomato___Bacterial_spot       0.15      0.15      0.15        20\n",
      "                        Tomato___Early_blight       0.17      0.25      0.20        20\n",
      "                         Tomato___Late_blight       0.14      0.20      0.16        20\n",
      "                           Tomato___Leaf_Mold       0.11      0.10      0.10        20\n",
      "                  Tomato___Septoria_leaf_spot       0.00      0.00      0.00        20\n",
      "Tomato___Spider_mites Two-spotted_spider_mite       0.03      0.05      0.04        20\n",
      "                         Tomato___Target_Spot       0.20      0.10      0.13        20\n",
      "       Tomato___Tomato_Yellow_Leaf_Curl_Virus       0.14      0.15      0.15        20\n",
      "                 Tomato___Tomato_mosaic_virus       0.17      0.15      0.16        20\n",
      "                             Tomato___healthy       0.00      0.00      0.00        20\n",
      "\n",
      "                                     accuracy                           0.12       200\n",
      "                                    macro avg       0.11      0.11      0.11       200\n",
      "                                 weighted avg       0.11      0.12      0.11       200\n",
      "\n",
      "\n",
      "Confusion Matrix:\n",
      "[[3 4 5 1 1 1 2 1 2 0]\n",
      " [1 5 2 2 1 1 2 5 1 0]\n",
      " [1 4 4 2 1 4 0 1 2 1]\n",
      " [1 3 3 2 3 6 0 1 1 0]\n",
      " [1 4 3 3 0 2 0 4 2 1]\n",
      " [2 3 3 4 3 1 1 2 0 1]\n",
      " [2 2 0 1 2 4 2 1 3 3]\n",
      " [2 3 2 1 1 4 0 3 3 1]\n",
      " [3 1 5 0 3 0 2 2 3 1]\n",
      " [4 0 2 3 2 6 1 1 1 0]]\n"
     ]
    }
   ],
   "source": [
    "# Print classification report and confusion matrix\n",
    "print(\"\\nClassification Report:\")\n",
    "print(classification_report(validation_generator.classes, y_pred, target_names=class_labels))\n",
    "\n",
    "print(\"\\nConfusion Matrix:\")\n",
    "print(confusion_matrix(validation_generator.classes, y_pred))"
   ]
  }
 ],
 "metadata": {
  "kernelspec": {
   "display_name": "GPU",
   "language": "python",
   "name": "python3"
  },
  "language_info": {
   "codemirror_mode": {
    "name": "ipython",
    "version": 3
   },
   "file_extension": ".py",
   "mimetype": "text/x-python",
   "name": "python",
   "nbconvert_exporter": "python",
   "pygments_lexer": "ipython3",
   "version": "3.9.19"
  }
 },
 "nbformat": 4,
 "nbformat_minor": 2
}
